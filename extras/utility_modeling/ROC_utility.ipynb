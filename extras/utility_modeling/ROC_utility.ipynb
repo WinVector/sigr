{
 "cells": [
  {
   "cell_type": "code",
   "execution_count": 1,
   "metadata": {},
   "outputs": [],
   "source": [
    "from sympy import *\n",
    "# From: https://stackoverflow.com/a/33745882\n",
    "from IPython.display import display, Math\n",
    "\n",
    "init_printing(latex_printer=lambda *args, **kwargs: latex(*args, mul_symbol='dot', **kwargs))"
   ]
  },
  {
   "cell_type": "code",
   "execution_count": 2,
   "metadata": {},
   "outputs": [],
   "source": [
    "Population, Prevalence = symbols('Population Prevalence')\n",
    "TP, FP, TN, FN = symbols('TP FP TN FN')\n",
    "specificity, sensitivity = symbols('specificity sensitivity')\n",
    "sens = Function('sens')(specificity)\n",
    "ROC_slope = symbols('ROC_slope')\n",
    "TPV, FPV, TNV, FNV = symbols('TPV FPV TNV FNV')\n",
    "Utility = symbols('Utility')"
   ]
  },
  {
   "cell_type": "code",
   "execution_count": 3,
   "metadata": {},
   "outputs": [
    {
     "data": {
      "image/png": "[encoded data removed]",
      "text/latex": [
       "$\\displaystyle \\left[ - FN - FP + Population - TN - TP, \\  Prevalence - \\frac{FN + TP}{FN + FP + TN + TP}, \\  - \\frac{TP}{FN + TP} + sensitivity, \\  - \\frac{TN}{FP + TN} + specificity, \\  - FN \\cdot FNV - FP \\cdot FPV - TN \\cdot TNV - TP \\cdot TPV + Utility\\right]$"
      ],
      "text/plain": [
       "⎡                                                   FN + TP            TP     \n",
       "⎢-FN - FP + Population - TN - TP, Prevalence - ─────────────────, - ─────── + \n",
       "⎣                                              FN + FP + TN + TP    FN + TP   \n",
       "\n",
       "                  TN                                                          \n",
       "sensitivity, - ─────── + specificity, -FN⋅FNV - FP⋅FPV - TN⋅TNV - TP⋅TPV + Uti\n",
       "               FP + TN                                                        \n",
       "\n",
       "    ⎤\n",
       "lity⎥\n",
       "    ⎦"
      ]
     },
     "execution_count": 3,
     "metadata": {},
     "output_type": "execute_result"
    }
   ],
   "source": [
    "relations = [\n",
    "    Population - (TP + FN + TN + FP),\n",
    "    Prevalence - (TP + FN) / (TP + FN + TN + FP),\n",
    "    sensitivity - (TP / (TP + FN)),\n",
    "    specificity - (TN / (TN + FP)),\n",
    "    Utility - (TP * TPV + FP * FPV + TN * TNV + FN * FNV)\n",
    "]\n",
    "relations"
   ]
  },
  {
   "cell_type": "code",
   "execution_count": 4,
   "metadata": {},
   "outputs": [
    {
     "data": {
      "image/png": "[encoded data removed]",
      "text/latex": [
       "$\\displaystyle Population \\cdot \\left(- FNV \\cdot Prevalence \\cdot sensitivity + FNV \\cdot Prevalence + FPV \\cdot Prevalence \\cdot specificity - FPV \\cdot Prevalence - FPV \\cdot specificity + FPV - Prevalence \\cdot TNV \\cdot specificity + Prevalence \\cdot TPV \\cdot sensitivity + TNV \\cdot specificity\\right)$"
      ],
      "text/plain": [
       "Population⋅(-FNV⋅Prevalence⋅sensitivity + FNV⋅Prevalence + FPV⋅Prevalence⋅spec\n",
       "ificity - FPV⋅Prevalence - FPV⋅specificity + FPV - Prevalence⋅TNV⋅specificity \n",
       "+ Prevalence⋅TPV⋅sensitivity + TNV⋅specificity)"
      ]
     },
     "execution_count": 4,
     "metadata": {},
     "output_type": "execute_result"
    }
   ],
   "source": [
    "util = solve(relations, [TP, FP, TN, FN, Utility])[Utility]\n",
    "util"
   ]
  },
  {
   "cell_type": "code",
   "execution_count": 5,
   "metadata": {},
   "outputs": [
    {
     "data": {
      "image/png": "[encoded data removed]",
      "text/latex": [
       "$\\displaystyle Population \\cdot \\left(- FNV \\cdot Prevalence \\cdot \\frac{d}{d specificity} \\operatorname{sens}{\\left(specificity \\right)} + FPV \\cdot Prevalence - FPV - Prevalence \\cdot TNV + Prevalence \\cdot TPV \\cdot \\frac{d}{d specificity} \\operatorname{sens}{\\left(specificity \\right)} + TNV\\right)$"
      ],
      "text/plain": [
       "           ⎛                      d                                           \n",
       "Population⋅⎜- FNV⋅Prevalence⋅────────────(sens(specificity)) + FPV⋅Prevalence \n",
       "           ⎝                 dspecificity                                     \n",
       "\n",
       "                                             d                               ⎞\n",
       "- FPV - Prevalence⋅TNV + Prevalence⋅TPV⋅────────────(sens(specificity)) + TNV⎟\n",
       "                                        dspecificity                         ⎠"
      ]
     },
     "execution_count": 5,
     "metadata": {},
     "output_type": "execute_result"
    }
   ],
   "source": [
    "dutil_dspec = diff(util.subs(sensitivity, sens), specificity)\n",
    "dutil_dspec"
   ]
  },
  {
   "cell_type": "code",
   "execution_count": 6,
   "metadata": {},
   "outputs": [
    {
     "data": {
      "image/png": "[encoded data removed]",
      "text/latex": [
       "$\\displaystyle \\frac{d}{d specificity} \\operatorname{sens}{\\left(specificity \\right)}$"
      ],
      "text/plain": [
       "     d                         \n",
       "────────────(sens(specificity))\n",
       "dspecificity                   "
      ]
     },
     "execution_count": 6,
     "metadata": {},
     "output_type": "execute_result"
    }
   ],
   "source": [
    "dSens_dSpec = diff(sens, specificity)\n",
    "dSens_dSpec"
   ]
  },
  {
   "cell_type": "code",
   "execution_count": 7,
   "metadata": {},
   "outputs": [
    {
     "data": {
      "image/png": "[encoded data removed]",
      "text/latex": [
       "$\\displaystyle Population \\cdot \\left(FNV \\cdot Prevalence \\cdot ROC_{slope} + FPV \\cdot Prevalence - FPV - Prevalence \\cdot ROC_{slope} \\cdot TPV - Prevalence \\cdot TNV + TNV\\right)$"
      ],
      "text/plain": [
       "Population⋅(FNV⋅Prevalence⋅ROCₛₗₒₚₑ + FPV⋅Prevalence - FPV - Prevalence⋅ROCₛₗₒ\n",
       "ₚₑ⋅TPV - Prevalence⋅TNV + TNV)"
      ]
     },
     "execution_count": 7,
     "metadata": {},
     "output_type": "execute_result"
    }
   ],
   "source": [
    "# ROC cuve x-axis is 1-Specficity, not Specificity, so ROC_slope \n",
    "# comes in with an opposite sign.\n",
    "relation = dutil_dspec.subs(dSens_dSpec, - ROC_slope)\n",
    "relation"
   ]
  },
  {
   "cell_type": "code",
   "execution_count": 8,
   "metadata": {},
   "outputs": [
    {
     "data": {
      "image/png": "[encoded data removed]",
      "text/latex": [
       "$\\displaystyle \\left[ \\frac{- FPV \\cdot Prevalence + FPV + Prevalence \\cdot TNV - TNV}{Prevalence \\cdot \\left(FNV - TPV\\right)}\\right]$"
      ],
      "text/plain": [
       "⎡-FPV⋅Prevalence + FPV + Prevalence⋅TNV - TNV⎤\n",
       "⎢────────────────────────────────────────────⎥\n",
       "⎣           Prevalence⋅(FNV - TPV)           ⎦"
      ]
     },
     "execution_count": 8,
     "metadata": {},
     "output_type": "execute_result"
    }
   ],
   "source": [
    "soln = solve(relation, ROC_slope)\n",
    "soln"
   ]
  },
  {
   "cell_type": "code",
   "execution_count": 9,
   "metadata": {},
   "outputs": [
    {
     "data": {
      "image/png": "[encoded data removed]",
      "text/latex": [
       "$\\displaystyle \\frac{\\left(1 - Prevalence\\right) \\cdot \\left(- FPV + TNV\\right)}{Prevalence \\cdot \\left(- FNV + TPV\\right)}$"
      ],
      "text/plain": [
       "(1 - Prevalence)⋅(-FPV + TNV)\n",
       "─────────────────────────────\n",
       "   Prevalence⋅(-FNV + TPV)   "
      ]
     },
     "execution_count": 9,
     "metadata": {},
     "output_type": "execute_result"
    }
   ],
   "source": [
    "neatened = (TNV - FPV) * (1 - Prevalence) / (Prevalence * (TPV - FNV))\n",
    "neatened"
   ]
  },
  {
   "cell_type": "code",
   "execution_count": 10,
   "metadata": {},
   "outputs": [
    {
     "data": {
      "image/png": "[encoded data removed]",
      "text/latex": [
       "$\\displaystyle 0$"
      ],
      "text/plain": [
       "0"
      ]
     },
     "execution_count": 10,
     "metadata": {},
     "output_type": "execute_result"
    }
   ],
   "source": [
    "simplify(soln[0] - neatened)"
   ]
  },
  {
   "cell_type": "code",
   "execution_count": null,
   "metadata": {},
   "outputs": [],
   "source": []
  }
 ],
 "metadata": {
  "kernelspec": {
   "display_name": "Python 3",
   "language": "python",
   "name": "python3"
  },
  "language_info": {
   "codemirror_mode": {
    "name": "ipython",
    "version": 3
   },
   "file_extension": ".py",
   "mimetype": "text/x-python",
   "name": "python",
   "nbconvert_exporter": "python",
   "pygments_lexer": "ipython3",
   "version": "3.7.7"
  }
 },
 "nbformat": 4,
 "nbformat_minor": 4
}
